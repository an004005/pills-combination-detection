{
 "cells": [
  {
   "cell_type": "code",
   "execution_count": 24,
   "metadata": {},
   "outputs": [],
   "source": [
    "%matplotlib inline\n",
    "import cv2\n",
    "import numpy as np\n",
    "import matplotlib.pyplot as plt"
   ]
  },
  {
   "cell_type": "code",
   "execution_count": 25,
   "metadata": {},
   "outputs": [],
   "source": [
    "# https://076923.github.io/posts/Python-opencv-21/\n",
    "def binaryImageCanny(grayImage):\n",
    "    canny = cv2.Canny(grayImage, 20, 150)\n",
    "    contours, hierarchy = cv2.findContours(canny, cv2.RETR_CCOMP, cv2.CHAIN_APPROX_SIMPLE);\n",
    "    \n",
    "    for contour in contours:\n",
    "        cv2.drawContours(canny, [contour], 0, (255, 255, 255), -1)\n",
    "       \n",
    "    print(len(contours))\n",
    "    return canny\n"
   ]
  },
  {
   "cell_type": "code",
   "execution_count": 26,
   "metadata": {},
   "outputs": [],
   "source": [
    "def binaryImageAdaptiveThresh(grayImage):\n",
    "    blured = cv2.medianBlur(grayImage, 5);\n",
    "    #blured = cv2.GaussianBlur(grayImage,(5,5),0)\n",
    "    thresh = cv2.adaptiveThreshold(blured, 255, cv2.ADAPTIVE_THRESH_GAUSSIAN_C, cv2.THRESH_BINARY, 13, 2)\n",
    "    se1 = np.ones((3, 3), np.uint8)\n",
    "    se2 = np.ones((5, 5), np.uint8)\n",
    "    \n",
    "    thresh = cv2.morphologyEx(thresh, cv2.MORPH_ERODE, se1)\n",
    "    thresh = cv2.morphologyEx(thresh, cv2.MORPH_ERODE, se2)\n",
    "    thresh = cv2.morphologyEx(thresh, cv2.MORPH_DILATE, se1)\n",
    "    \n",
    "    thresh = cv2.bitwise_not(thresh)\n",
    "    contours, hierarchy = cv2.findContours(thresh, cv2.RETR_CCOMP, cv2.CHAIN_APPROX_SIMPLE);\n",
    "    for contour in contours:\n",
    "        cv2.drawContours(thresh, [contour], 0, (255, 255, 255), -1)        \n",
    "    thresh = cv2.bitwise_not(thresh)\n",
    "\n",
    "    se3 = np.ones((13, 13), np.uint8)\n",
    "    thresh = cv2.morphologyEx(thresh, cv2.MORPH_CLOSE, se3)\n",
    "    \n",
    "    thresh = cv2.bitwise_not(thresh)\n",
    "    \n",
    "    return thresh"
   ]
  },
  {
   "cell_type": "code",
   "execution_count": 27,
   "metadata": {},
   "outputs": [],
   "source": [
    "def resizeFixRate(image, width):\n",
    "    img_width = image.shape[1]\n",
    "    imgRatio = width / img_width \n",
    "    return cv2.resize(image, dsize=(0, 0), fx=imgRatio, fy=imgRatio, interpolation=cv2.INTER_LINEAR)"
   ]
  },
  {
   "cell_type": "code",
   "execution_count": 28,
   "metadata": {},
   "outputs": [],
   "source": [
    "def getContours(binaryImage):\n",
    "    return cv2.findContours(binaryImage, cv2.RETR_EXTERNAL, cv2.CHAIN_APPROX_SIMPLE);"
   ]
  },
  {
   "cell_type": "code",
   "execution_count": 164,
   "metadata": {},
   "outputs": [
    {
     "data": {
      "image/png": "[encoded data removed]",
      "text/plain": [
       "<Figure size 432x288 with 1 Axes>"
      ]
     },
     "metadata": {
      "needs_background": "light"
     },
     "output_type": "display_data"
    }
   ],
   "source": [
    "image = cv2.imread(\"images/pills_1.jpg\")\n",
    "image = resizeFixRate(image, 600)\n",
    "\n",
    "fix_img = cv2.cvtColor(image, cv2.COLOR_BGR2RGB)\n",
    "plt.imshow(fix_img)\n",
    "\n",
    "img_hsv = cv2.cvtColor(fix_img, cv2.COLOR_BGR2HSV) # cvtColor 함수를 이용하여 hsv 색공간으로 변환\n",
    "plt.imshow(img_hsv)\n",
    "\n",
    "lower = np.array([0,0,0])\n",
    "upper = np.array([255,255,30])\n",
    "img_mask = cv2.inRange(img_hsv, lower, upper)\n",
    "plt.imshow(img_mask)\n",
    "img_mask_gray = cv2.cvtColor(img_mask, cv2.COLOR_BGR2RGB)\n",
    "plt.imshow(img_mask_gray,cmap='gray')\n",
    "\n",
    "grayImage = cv2.cvtColor(image, cv2.COLOR_BGR2GRAY)\n",
    "binaryImage = binaryImageAdaptiveThresh(grayImage)\n",
    "\n",
    "plt.imshow(binaryImage, cmap='gray')\n",
    "test = cv2.cvtColor(binaryImage, cv2.COLOR_BGR2RGB)\n",
    "add_img = cv2.subtract(test,img_mask_gray)\n",
    "plt.imshow(add_img)\n",
    "\n",
    "contours, hirarachy = getContours(binaryImage)\n",
    "for contour in contours:\n",
    "    cv2.drawContours(image, [contour], 0, (255, 255, 255), 2)\n",
    "\n",
    "#plt.imshow(cv2.cvtColor(image, cv2.COLOR_BGR2RGB))"
   ]
  },
  {
   "cell_type": "code",
   "execution_count": null,
   "metadata": {},
   "outputs": [],
   "source": []
  },
  {
   "cell_type": "code",
   "execution_count": null,
   "metadata": {},
   "outputs": [],
   "source": []
  },
  {
   "cell_type": "code",
   "execution_count": null,
   "metadata": {},
   "outputs": [],
   "source": []
  }
 ],
 "metadata": {
  "kernelspec": {
   "display_name": "Python 3",
   "language": "python",
   "name": "python3"
  },
  "language_info": {
   "codemirror_mode": {
    "name": "ipython",
    "version": 3
   },
   "file_extension": ".py",
   "mimetype": "text/x-python",
   "name": "python",
   "nbconvert_exporter": "python",
   "pygments_lexer": "ipython3",
   "version": "3.8.5"
  }
 },
 "nbformat": 4,
 "nbformat_minor": 5
}
