{
 "cells": [
  {
   "cell_type": "code",
   "execution_count": 33,
   "id": "innovative-creativity",
   "metadata": {
    "pycharm": {
     "is_executing": false
    }
   },
   "outputs": [],
   "source": [
    "%matplotlib inline\n",
    "import cv2\n",
    "import numpy as np\n",
    "import matplotlib.pyplot as plt\n",
    "import copy\n",
    "import os\n",
    "import math\n",
    "\n"
   ]
  },
  {
   "cell_type": "code",
   "execution_count": 135,
   "outputs": [
    {
     "traceback": [
      "\u001b[1;36m  File \u001b[1;32m\"<ipython-input-135-5c49eb12f689>\"\u001b[1;36m, line \u001b[1;32m265\u001b[0m\n\u001b[1;33m    def compare_pills(tmpl_pills, user_pills):\u001b[0m\n\u001b[1;37m                                              ^\u001b[0m\n\u001b[1;31mIndentationError\u001b[0m\u001b[1;31m:\u001b[0m expected an indented block\n"
     ],
     "ename": "IndentationError",
     "evalue": "expected an indented block (<ipython-input-135-5c49eb12f689>, line 265)",
     "output_type": "error"
    }
   ],
   "source": [
    "MOMENT_THRESH = 0.2\n",
    "SE1 = np.ones((3, 3), np.uint8)\n",
    "SE2 = np.ones((5, 5), np.uint8)\n",
    "SE3 = np.ones((13, 13), np.uint8)\n",
    "RESIZE_WIDTH = 600\n",
    "\n",
    "def type_contour(path):\n",
    "    type_img = cv2.imread(path)\n",
    "    sstype_img = cv2.cvtColor(type_img, cv2.COLOR_BGR2GRAY)\n",
    "    contours, _ = cv2.findContours(sstype_img, cv2.RETR_EXTERNAL, cv2.CHAIN_APPROX_SIMPLE)\n",
    "    # cv2.drawContours(type_img, [contours[0]], 0, [255,255,255], 1)\n",
    "    # cv2.imshow('d', type_img)\n",
    "    # cv2.waitKey(0)\n",
    "    # cv2.destroyAllWindows()\n",
    "    return contours[0]\n",
    "\n",
    "pill_types = {\n",
    "    'type1': type_contour(\"types/type1.png\"),\n",
    "    'type2': type_contour(\"types/type2.png\"),\n",
    "    'type3': type_contour(\"types/type3.png\")\n",
    "}\n",
    "\n",
    "\n",
    "\n",
    "def binaryImageCanny(grayImage):\n",
    "    canny = cv2.Canny(grayImage, 20, 150)\n",
    "    \n",
    "    canny = cv2.morphologyEx(canny, cv2.MORPH_CLOSE, SE1)\n",
    "    canny = cv2.morphologyEx(canny, cv2.MORPH_CLOSE, SE2)\n",
    "    \n",
    "    contours, _ = cv2.findContours(canny, cv2.RETR_EXTERNAL, cv2.CHAIN_APPROX_SIMPLE)\n",
    "    \n",
    "    cv2.drawContours(canny, contours, -1, (255, 255, 255), -1)\n",
    "       \n",
    "    return canny\n",
    "\n",
    "def binaryImageAdaptiveThresh(grayImage, c=2):\n",
    "    blured = cv2.medianBlur(grayImage, 5)\n",
    "    thresh = cv2.adaptiveThreshold(blured, 255, cv2.ADAPTIVE_THRESH_GAUSSIAN_C, cv2.THRESH_BINARY, 13, c)\n",
    "    \n",
    "    thresh = cv2.morphologyEx(thresh, cv2.MORPH_ERODE, SE1)\n",
    "    thresh = cv2.morphologyEx(thresh, cv2.MORPH_ERODE, SE2)\n",
    "    thresh = cv2.morphologyEx(thresh, cv2.MORPH_DILATE, SE1)\n",
    "    \n",
    "    thresh = cv2.bitwise_not(thresh)\n",
    "    contours, hierarchy = cv2.findContours(thresh, cv2.RETR_CCOMP, cv2.CHAIN_APPROX_SIMPLE)\n",
    "    for contour in contours:\n",
    "        cv2.drawContours(thresh, [contour], 0, (255, 255, 255), -1)\n",
    "    thresh = cv2.bitwise_not(thresh)\n",
    "\n",
    "    thresh = cv2.morphologyEx(thresh, cv2.MORPH_CLOSE, SE3)\n",
    "\n",
    "    thresh = cv2.bitwise_not(thresh)\n",
    "    \n",
    "    return thresh\n",
    "\n",
    "def resizeFixRate(image, width):\n",
    "    img_width = image.shape[1]\n",
    "    imgRatio = width / img_width \n",
    "    return cv2.resize(image, dsize=(0, 0), fx=imgRatio, fy=imgRatio, interpolation=cv2.INTER_LINEAR)\n",
    "\n",
    "def getContours(binaryImage):\n",
    "    return cv2.findContours(binaryImage, cv2.RETR_EXTERNAL, cv2.CHAIN_APPROX_SIMPLE)\n",
    "\n",
    "def show(image_to_show):\n",
    "    cv2.imshow(\"image to show\", image_to_show)\n",
    "    cv2.waitKey()\n",
    "    cv2.destroyAllWindows()\n",
    "\n",
    "def compute_contour_center(contour):\n",
    "    m = cv2.moments(contour)\n",
    "    cx = int(m[\"m10\"] / m[\"m00\"])\n",
    "    cy = int(m[\"m01\"] / m[\"m00\"])\n",
    "    return cx, cy\n",
    "\n",
    "def min_max_from_contour(contour, center):\n",
    "    min_d = 99999\n",
    "    max_d = -1\n",
    "    center_x = center[0]\n",
    "    center_y = center[1]\n",
    "    for point in contour:\n",
    "        x_diff = center_x - point[0][0]\n",
    "        y_diff = center_y - point[0][1]\n",
    "        distance = math.sqrt((x_diff * x_diff) + (y_diff * y_diff))\n",
    "        if min_d >= distance:\n",
    "            min_d = distance\n",
    "\n",
    "        if max_d <= distance:\n",
    "            max_d = distance\n",
    "    return min_d, max_d\n",
    "\n",
    "def register_pills_image(image_path):\n",
    "    pills_combination = {}\n",
    "    pills_combination['name'] = os.path.basename(open(image_path).name)\n",
    "    \n",
    "    tmpl_image = cv2.imread(image_path)\n",
    "    tmpl_image = resizeFixRate(tmpl_image, RESIZE_WIDTH)\n",
    "    pills_combination['image'] = copy.deepcopy(tmpl_image)\n",
    "    \n",
    "    tmpl_gray = cv2.cvtColor(tmpl_image, cv2.COLOR_BGR2GRAY)\n",
    "    # tmpl_binary = binaryImageAdaptiveThresh(tmpl_gray)\n",
    "    tmpl_binary = binaryImageCanny(tmpl_gray)\n",
    "    show(tmpl_binary)\n",
    "    tmpl_contours, _ = getContours(tmpl_binary)\n",
    "\n",
    "    pills_combination['contours'] = []\n",
    "    pills_combination['center'] = []\n",
    "    pills_combination['min_max_size'] = []\n",
    "    pills_combination['pill_name'] = []\n",
    "    \n",
    "    # test_image = copy.deepcopy(tmpl_image)\n",
    "    # cv2.drawContours(test_image, tmpl_contours, -1, [255,255,255], 1)\n",
    "    # show(test_image)\n",
    "    \n",
    "    # 잡음 제거 및 알약의 중심점, 크기 정리\n",
    "    max_contour_len = len(max(tmpl_contours, key=lambda x : len(x)))\n",
    "    for i, contour in enumerate(tmpl_contours):\n",
    "        if len(contour) < max_contour_len / 4: # 그림자, 잡음으로 생긴 blob제거 따라서 사진을 최대한 알약이 크게 보이게 찍는다.\n",
    "            continue\n",
    "        pills_combination['contours'].append(contour)\n",
    "        center = compute_contour_center(contour)\n",
    "        pills_combination['center'].append(center)\n",
    "        pills_combination['min_max_size'].append(min_max_from_contour(contour, center))\n",
    "        \n",
    "        # 알약 확인용 \n",
    "        # tmp = copy.deepcopy(tmpl_image)\n",
    "        # cv2.drawContours(tmp, [contour], 0, [255, 255, 255], 1)\n",
    "        # cv2.imshow(pills_combination['name'] + \" blob \" + str(i), tmp)\n",
    "        # cv2.waitKey(0)\n",
    "        # cv2.destroyAllWindows()\n",
    "    \n",
    "    # 입력받은 알약들을 type별로 정리\n",
    "    for type_name, type_contour in pill_types.items():\n",
    "        pills_combination[type_name] = []\n",
    "        for i, contour in enumerate(pills_combination['contours']):\n",
    "            moment = cv2.matchShapes(type_contour, contour, cv2.CONTOURS_MATCH_I3, 0)\n",
    "            if moment <= MOMENT_THRESH:\n",
    "                pills_combination[type_name].append(i)\n",
    "                \n",
    "                # 확인용\n",
    "                tmp = copy.deepcopy(tmpl_image)\n",
    "                cv2.drawContours(tmp, [contour], 0, [255, 255, 255], 1)\n",
    "                cv2.imshow(pills_combination['name'] + \" blob \" + str(i) + type_name, tmp)\n",
    "                cv2.waitKey(0)\n",
    "                cv2.destroyAllWindows()\n",
    "    \n",
    "        \n",
    "    return pills_combination\n",
    "\n",
    "def compare_pill_detail(pill1, pill2):\n",
    "    return True\n",
    "\n",
    "# def compare_pill(tmpl_pills, user_pills):\n",
    "#     result = {}\n",
    "#     for i, tmpl_contour in enumerate(tmpl_pills['contours']):\n",
    "#         tmpl_image = copy.deepcopy(tmpl_pills['image'])\n",
    "#         cv2.drawContours(tmpl_image, [tmpl_contour], 0,  [255, 255, 255], 1)\n",
    "#         result[i] = []\n",
    "#         for j, user_contour in enumerate(user_pills['contours']):\n",
    "#             moment = cv2.matchShapes(tmpl_contour, user_contour, cv2.CONTOURS_MATCH_I3, 0)\n",
    "#             if moment > MOMENT_THRESH: # MOMENT_THRESH보다 작으면 같은 모양으로 취급\n",
    "#                 continue\n",
    "#             # tmpl, user contour index\n",
    "#             result[i].append(j)            \n",
    "#             user_image = copy.deepcopy(user_pills['image'])\n",
    "#             cv2.drawContours(user_image, [user_contour], 0,  [255, 255, 255], 1)\n",
    "#             \n",
    "#             cv2.imshow(\"tmpl\" + str(moment), tmpl_image)\n",
    "#             cv2.imshow(\"user\" + str(moment), user_image)\n",
    "# \n",
    "#             cv2.waitKey(0)\n",
    "#             cv2.destroyAllWindows()\n",
    "def get_type1_radius(contour, center):\n",
    "    center_x = center[0]\n",
    "    center_y = center[1]\n",
    "    sum_distance = 0\n",
    "    for point in contour:\n",
    "        x_diff = center_x - point[0][0]\n",
    "        y_diff = center_y - point[0][1]\n",
    "        distance = math.sqrt((x_diff * x_diff) + (y_diff * y_diff))\n",
    "        sum_distance += distance\n",
    "    return sum_distance / len(contour)\n",
    "\n",
    "def showIndexesPill(pills, indexes, type_name):\n",
    "    image = copy.deepcopy(pills['image'])\n",
    "    indexes = list(map(lambda i:pills[type_name][i], indexes))\n",
    "    target = list(map(lambda i:pills['contours'][i], indexes))\n",
    "    cv2.drawContours(image, target, -1, [255,255,255], 2)\n",
    "    cv2.imshow(\"pill\", image)\n",
    "    cv2.waitKey(0)\n",
    "    cv2.destroyAllWindows()\n",
    "\n",
    "def scale_compare(pills1, pills2, type_name): # tmpl, user pills\n",
    "    # 무게중심에서 각 contour의 점의 거리의 평균으로 크기를 비교한다.\n",
    "    # 개수가 1개일때는 비교 불가(상대크기를 알 수 없다)\n",
    "    pills1_radius = []\n",
    "    pills2_radius = []\n",
    "    for i in pills1[type_name]:\n",
    "        center = pills1['center'][i]\n",
    "        contour = pills1['contours'][i]\n",
    "        pills1_radius.append(get_type1_radius(contour, center))\n",
    "        \n",
    "    for i in pills2[type_name]:\n",
    "        center = pills2['center'][i]\n",
    "        contour = pills2['contours'][i]\n",
    "        pills2_radius.append(get_type1_radius(contour, center))\n",
    "    pills1_radius_norm = list(map(lambda x: x/max(pills1_radius), pills1_radius))\n",
    "    pills2_radius_norm = list(map(lambda x: x/max(pills2_radius), pills2_radius))\n",
    "    \n",
    "    NORM_THRESH = 0.1\n",
    "    size_same_group = {} # key: tmpl, value: type의 인덱스\n",
    "    for i, pill1 in enumerate(pills1_radius_norm):\n",
    "        size_same_group[i] = []\n",
    "        for j, pill2 in enumerate(pills2_radius_norm):\n",
    "            if abs(pill1 - pill2) <= NORM_THRESH:\n",
    "                # same\n",
    "                size_same_group[i].append(j)\n",
    "\n",
    "    check_set = set([])\n",
    "    for k, v in size_same_group.items():\n",
    "        if len(v) == 0:\n",
    "            showIndexesPill(pills1, [k], type_name)\n",
    "            return False, size_same_group\n",
    "        else:\n",
    "            check_set.update(v)\n",
    "    if len(check_set) != len(pills2_radius):\n",
    "        type_index = set([i for i in range(len(pills2[type_name]))])\n",
    "        showIndexesPill(pills2, type_index - check_set, type_name)\n",
    "        return False, size_same_group\n",
    "        \n",
    "    return True, size_same_group\n",
    "\n",
    "def showTypePills(tmpl_pills, user_pills, type_name):\n",
    "    tmpl_image = copy.deepcopy(tmpl_pills['image'])\n",
    "    tmpl_target = list(map(lambda i : tmpl_pills['contours'][i], tmpl_pills[type_name]))\n",
    "    cv2.drawContours(tmpl_image, tmpl_target, -1, [255,255,255], 2)\n",
    "    \n",
    "    user_image = copy.deepcopy(user_pills['image'])\n",
    "    user_target = list(map(lambda i : user_pills['contours'][i], user_pills[type_name]))\n",
    "    cv2.drawContours(user_image, user_target, -1, [255,255,255], 2)\n",
    "    \n",
    "    cv2.imshow(\"tmpl_pills\", tmpl_image)\n",
    "    cv2.imshow(\"user_pills\", user_image)\n",
    "    cv2.waitKey(0)\n",
    "    cv2.destroyAllWindows()\n",
    "\n",
    "# {'type1': {0: [0]}, 'type2': {0: [0]}, 'type3': {0: [0]}}\n",
    "\n",
    "def color_compare():\n",
    "    return False\n",
    "\n",
    "def detail_compare(type_group, tmpl_pills, user_pills):\n",
    "    return None\n",
    "    # compare_done = set([]) # (tmpl, user)\n",
    "    # hsv_tmpl_img = cv2.cvtColor(copy.deepcopy(tmpl_pills['image']), cv2.COLOR_BGR2HSV)\n",
    "    # hsv_user_img = cv2.cvtColor(copy.deepcopy(user_pills['image']), cv2.COLOR_BGR2HSV)\n",
    "    # \n",
    "    # for type_name, same_group in type_group.items():\n",
    "    #     for tmpl_type_index, user_type_indexes in same_group.items():\n",
    "    #         for user_type_index in user_type_indexes:\n",
    "    #             if (tmpl_type_index, user_type_index) in compare_done:\n",
    "    #                 continue\n",
    "    #             else:\n",
    "    #                 cv2.calcHist()\n",
    "        \n",
    "        \n",
    "def compare_pills(tmpl_pills, user_pills):\n",
    "    # 타입별 개수 확인\n",
    "    check_types = []\n",
    "    for type_name in pill_types.keys():\n",
    "        if len(tmpl_pills[type_name]) != len(user_pills[type_name]):\n",
    "            print(type_name + \" of pills count is not same\")\n",
    "            showTypePills(tmpl_pills, user_pills, type_name)\n",
    "            return False\n",
    "        elif len(tmpl_pills[type_name]) > 0 and len(tmpl_pills[type_name]) == len(user_pills[type_name]):\n",
    "            check_types.append(type_name)\n",
    "    \n",
    "    # 각 타입별 크기 확인, check_types에는 type에 해당하는 알약이 1개 이상 들어있고 개수가 같음\n",
    "    type_group = {}\n",
    "    for type_name in check_types:\n",
    "        succeeded, size_same_group = scale_compare(tmpl_pills, user_pills, type_name)\n",
    "        if not succeeded:\n",
    "            print(size_same_group)\n",
    "            print(type_name + \" of pills size is not same\")\n",
    "            return False\n",
    "        else:\n",
    "            type_group[type_name] = size_same_group\n",
    "\n",
    "    # 각 타입별 디테일 확인\n",
    "    print(type_group) # 각 pills의 type의 index를 저장한 딕셔너리\n",
    "    # {'type1': {0: [0]}, 'type2': {0: [0]}, 'type3': {0: [0]}}\n",
    "    return detail_compare(type_group, tmpl_pills, user_pills)\n",
    "        "
   ],
   "metadata": {
    "collapsed": false,
    "pycharm": {
     "name": "#%%\n",
     "is_executing": false
    }
   }
  },
  {
   "cell_type": "code",
   "execution_count": 88,
   "outputs": [],
   "source": [
    "# user_pills1 = register_pills_image(\"images/user_pills2.jpg\")\n",
    "tmpl_pills_scale = register_pills_image(\"images/tmpl_pill_scale.jpg\")\n",
    "user_pills_scale = register_pills_image(\"images/user_pill_scale.jpg\")"
   ],
   "metadata": {
    "collapsed": false,
    "pycharm": {
     "name": "#%%\n",
     "is_executing": false
    }
   }
  },
  {
   "cell_type": "code",
   "execution_count": 132,
   "outputs": [
    {
     "name": "stdout",
     "text": [
      "{0: [0, 1], 1: [0, 1], 2: [0, 1]}\n",
      "type1 of pills size is not same\n"
     ],
     "output_type": "stream"
    },
    {
     "data": {
      "text/plain": "False"
     },
     "metadata": {},
     "output_type": "execute_result",
     "execution_count": 132
    }
   ],
   "source": [
    "compare_pills(tmpl_pills_scale, user_pills_scale)"
   ],
   "metadata": {
    "collapsed": false,
    "pycharm": {
     "name": "#%%\n",
     "is_executing": false
    }
   }
  },
  {
   "cell_type": "code",
   "execution_count": 122,
   "outputs": [
    {
     "name": "stdout",
     "text": [
      "{0: [0, 1, 2], 1: [0, 1, 2], 2: []}\n",
      "type1 of pills size is not same\n"
     ],
     "output_type": "stream"
    },
    {
     "data": {
      "text/plain": "False"
     },
     "metadata": {},
     "output_type": "execute_result",
     "execution_count": 122
    }
   ],
   "source": [
    "compare_pills(user_pills_scale, tmpl_pills_scale)\n",
    "\n"
   ],
   "metadata": {
    "collapsed": false,
    "pycharm": {
     "name": "#%%\n",
     "is_executing": false
    }
   }
  },
  {
   "cell_type": "code",
   "execution_count": 125,
   "outputs": [],
   "source": [
    "user_pills1 = register_pills_image(\"images/user_pills1.jpg\")\n",
    "user_pills6 = register_pills_image(\"images/user_pills6.jpg\")\n",
    "\n"
   ],
   "metadata": {
    "collapsed": false,
    "pycharm": {
     "name": "#%%\n",
     "is_executing": false
    }
   }
  },
  {
   "cell_type": "code",
   "execution_count": 136,
   "outputs": [
    {
     "name": "stdout",
     "text": [
      "{0: [1], 1: [1]}\n",
      "type1 of pills size is not same\n"
     ],
     "output_type": "stream"
    },
    {
     "data": {
      "text/plain": "False"
     },
     "metadata": {},
     "output_type": "execute_result",
     "execution_count": 136
    }
   ],
   "source": [
    "# compare_pills(user_pills1, user_pills6)\n",
    "compare_pills(user_pills6, user_pills1)"
   ],
   "metadata": {
    "collapsed": false,
    "pycharm": {
     "name": "#%%\n",
     "is_executing": false
    }
   }
  },
  {
   "cell_type": "code",
   "execution_count": 138,
   "outputs": [
    {
     "name": "stdout",
     "text": [
      "{'type1': {0: [0]}, 'type2': {0: [0]}, 'type3': {0: [0]}}\n"
     ],
     "output_type": "stream"
    },
    {
     "data": {
      "text/plain": "True"
     },
     "metadata": {},
     "output_type": "execute_result",
     "execution_count": 138
    }
   ],
   "source": [
    "tmpl_pills = register_pills_image(\"images/tmpl_pills.jpg\")\n",
    "user_pills = register_pills_image(\"images/user_pills.jpg\")\n",
    "compare_pills(tmpl_pills, user_pills)\n"
   ],
   "metadata": {
    "collapsed": false,
    "pycharm": {
     "name": "#%%\n",
     "is_executing": false
    }
   }
  },
  {
   "cell_type": "code",
   "execution_count": 139,
   "outputs": [
    {
     "name": "stdout",
     "text": [
      "{0: [0, 1], 1: [0, 1], 2: [0, 1]}\n",
      "type1 of pills size is not same\n"
     ],
     "output_type": "stream"
    },
    {
     "data": {
      "text/plain": "False"
     },
     "metadata": {},
     "output_type": "execute_result",
     "execution_count": 139
    }
   ],
   "source": [
    "tmpl_pills_scale = register_pills_image(\"images/tmpl_pill_scale.jpg\")\n",
    "user_pills_scale = register_pills_image(\"images/user_pill_scale.jpg\")\n",
    "compare_pills(tmpl_pills_scale, user_pills_scale)\n",
    "\n"
   ],
   "metadata": {
    "collapsed": false,
    "pycharm": {
     "name": "#%%\n",
     "is_executing": false
    }
   }
  },
  {
   "cell_type": "code",
   "execution_count": null,
   "outputs": [],
   "source": [
    "\n"
   ],
   "metadata": {
    "collapsed": false,
    "pycharm": {
     "name": "#%%\n"
    }
   }
  }
 ],
 "metadata": {
  "kernelspec": {
   "display_name": "Python 3",
   "language": "python",
   "name": "python3"
  },
  "language_info": {
   "codemirror_mode": {
    "name": "ipython",
    "version": 3
   },
   "file_extension": ".py",
   "mimetype": "text/x-python",
   "name": "python",
   "nbconvert_exporter": "python",
   "pygments_lexer": "ipython3",
   "version": "3.8.6"
  },
  "pycharm": {
   "stem_cell": {
    "cell_type": "raw",
    "source": [],
    "metadata": {
     "collapsed": false
    }
   }
  }
 },
 "nbformat": 4,
 "nbformat_minor": 5
}