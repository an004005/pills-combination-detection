{
 "cells": [
  {
   "cell_type": "code",
   "execution_count": 36,
   "id": "innovative-creativity",
   "metadata": {
    "pycharm": {
     "is_executing": false
    }
   },
   "outputs": [],
   "source": [
    "%matplotlib inline\n",
    "import cv2\n",
    "import numpy as np\n",
    "import matplotlib.pyplot as plt\n",
    "import copy\n",
    "import os\n",
    "import math\n",
    "\n",
    "MOMENT_THRESH = 0.2\n",
    "SE1 = np.ones((3, 3), np.uint8)\n",
    "SE2 = np.ones((5, 5), np.uint8)\n",
    "SE3 = np.ones((13, 13), np.uint8)\n",
    "RESIZE_WIDTH = 600\n",
    "\n",
    "def binaryImageCanny(grayImage):\n",
    "    canny = cv2.Canny(grayImage, 20, 150)\n",
    "    \n",
    "    canny = cv2.morphologyEx(canny, cv2.MORPH_CLOSE, SE1)\n",
    "    canny = cv2.morphologyEx(canny, cv2.MORPH_CLOSE, SE2)\n",
    "    \n",
    "    contours, _ = cv2.findContours(canny, cv2.RETR_EXTERNAL, cv2.CHAIN_APPROX_SIMPLE)\n",
    "    \n",
    "    cv2.drawContours(canny, contours, -1, (255, 255, 255), -1)\n",
    "       \n",
    "    return canny\n",
    "\n",
    "def binaryImageAdaptiveThresh(grayImage, c=2):\n",
    "    blured = cv2.medianBlur(grayImage, 5)\n",
    "    thresh = cv2.adaptiveThreshold(blured, 255, cv2.ADAPTIVE_THRESH_GAUSSIAN_C, cv2.THRESH_BINARY, 13, c)\n",
    "    \n",
    "    thresh = cv2.morphologyEx(thresh, cv2.MORPH_ERODE, SE1)\n",
    "    thresh = cv2.morphologyEx(thresh, cv2.MORPH_ERODE, SE2)\n",
    "    thresh = cv2.morphologyEx(thresh, cv2.MORPH_DILATE, SE1)\n",
    "    \n",
    "    thresh = cv2.bitwise_not(thresh)\n",
    "    contours, hierarchy = cv2.findContours(thresh, cv2.RETR_CCOMP, cv2.CHAIN_APPROX_SIMPLE)\n",
    "    for contour in contours:\n",
    "        cv2.drawContours(thresh, [contour], 0, (255, 255, 255), -1)\n",
    "    thresh = cv2.bitwise_not(thresh)\n",
    "\n",
    "    thresh = cv2.morphologyEx(thresh, cv2.MORPH_CLOSE, SE3)\n",
    "\n",
    "    thresh = cv2.bitwise_not(thresh)\n",
    "    \n",
    "    return thresh\n",
    "\n",
    "def resizeFixRate(image, width):\n",
    "    img_width = image.shape[1]\n",
    "    imgRatio = width / img_width \n",
    "    return cv2.resize(image, dsize=(0, 0), fx=imgRatio, fy=imgRatio, interpolation=cv2.INTER_LINEAR)\n",
    "\n",
    "def getContours(binaryImage):\n",
    "    return cv2.findContours(binaryImage, cv2.RETR_EXTERNAL, cv2.CHAIN_APPROX_SIMPLE)\n",
    "\n",
    "def show(image_to_show):\n",
    "    cv2.imshow(\"image to show\", image_to_show)\n",
    "    cv2.waitKey()\n",
    "    cv2.destroyAllWindows()\n",
    "\n",
    "def compute_contour_center(contour):\n",
    "    m = cv2.moments(contour)\n",
    "    cx = int(m[\"m10\"] / m[\"m00\"])\n",
    "    cy = int(m[\"m01\"] / m[\"m00\"])\n",
    "    return cx, cy\n",
    "\n",
    "def min_max_from_contour(contour, center):\n",
    "    min_d = 99999\n",
    "    max_d = -1\n",
    "    center_x = center[0]\n",
    "    center_y = center[1]\n",
    "    for cx, cy in contour:\n",
    "        x_diff = center_x - cx\n",
    "        y_diff = center_y - cy\n",
    "        distance = math.sqrt((x_diff * x_diff) + (y_diff * y_diff))\n",
    "\n",
    "def register_pills_image(image_path):\n",
    "    pills_combination = {}\n",
    "    pills_combination['name'] = os.path.basename(open(image_path).name)\n",
    "    \n",
    "    tmpl_image = cv2.imread(image_path)\n",
    "    tmpl_image = resizeFixRate(tmpl_image, RESIZE_WIDTH)\n",
    "    pills_combination['image'] = copy.deepcopy(tmpl_image)\n",
    "    \n",
    "    tmpl_gray = cv2.cvtColor(tmpl_image, cv2.COLOR_BGR2GRAY)\n",
    "    tmpl_binary = binaryImageAdaptiveThresh(tmpl_gray)\n",
    "    show(tmpl_binary)\n",
    "    tmpl_contours, _ = getContours(tmpl_binary)\n",
    "    pills_combination['contours'] = []\n",
    "    pills_combination['center'] = []\n",
    "    pills_combination['offset'] = []\n",
    "    pills_combination['relative_size'] = []\n",
    "    \n",
    "    # test_image = copy.deepcopy(tmpl_image)\n",
    "    # cv2.drawContours(test_image, tmpl_contours, -1, [255,255,255], 1)\n",
    "    # show(test_image)\n",
    "    \n",
    "    max_contour_len = len(max(tmpl_contours, key=lambda x : len(x)))\n",
    "    for i, contour in enumerate(tmpl_contours):\n",
    "        print(len(contour))\n",
    "        if len(contour) < max_contour_len/4: # 그림자, 잡음으로 생긴 blob제거 따라서 사진을 최대한 알약이 크게 보이게 찍는다.\n",
    "            continue\n",
    "\n",
    "        tmp = copy.deepcopy(tmpl_image)\n",
    "        # cv2.drawContours(tmp, [contour], 0, [255, 255, 255], 1)\n",
    "        # \n",
    "        # cv2.imshow(\"blob \" + str(i), tmp)\n",
    "        # cv2.waitKey(0)\n",
    "        # cv2.destroyAllWindows()\n",
    "\n",
    "        rect = cv2.boundingRect(contour)\n",
    "        x, y, w, h = rect\n",
    "        # box = cv2.rectangle(origin_image, (x,y), (x+w,y+h), (0,0,255), 1)\n",
    "        cropped = tmp[y: y+h, x: x+w]\n",
    "        cropped_gray = cv2.cvtColor(cropped, cv2.COLOR_BGR2GRAY)\n",
    "        cropped_binary = binaryImageCanny(cropped_gray) # 여기는 일단 이렇게 해보기\n",
    "        cv2.imshow(\"binary\", cropped_binary)\n",
    "        cropped_contours, _ = getContours(cropped_binary)\n",
    "        \n",
    "        cv2.drawContours(tmp, cropped_contours, 0, [255, 255, 255], 1, offset=(x, y))\n",
    "        pills_combination['contours'].append(cropped_contours[0])\n",
    "        pills_combination['offset'].append((x, y))\n",
    "        pills_combination['center'].append(compute_contour_center(cropped_contours[0]))\n",
    "\n",
    "        cv2.imshow(pills_combination['name'] + \" blob \" + str(i), tmp)\n",
    "        cv2.waitKey(0)\n",
    "        cv2.destroyAllWindows()\n",
    "        \n",
    "    return pills_combination\n",
    "\n",
    "\n",
    "def compare_pill(tmpl_pills, user_pills):\n",
    "    result = {}\n",
    "    for i, tmpl_contour in enumerate(tmpl_pills['contours']):\n",
    "        tmpl_image = copy.deepcopy(tmpl_pills['image'])\n",
    "        tmpl_offset = tmpl_pills['offset'][i]\n",
    "        cv2.drawContours(tmpl_image, [tmpl_contour], 0,  [255, 255, 255], 1, offset=tmpl_offset)\n",
    "        result[i] = []\n",
    "        for j, user_contour in enumerate(user_pills['contours']):\n",
    "            moment = cv2.matchShapes(tmpl_contour, user_contour, cv2.CONTOURS_MATCH_I3, 0)\n",
    "            if moment > MOMENT_THRESH: # MOMENT_THRESH보다 작으면 같은 모양으로 취급\n",
    "                continue\n",
    "            # tmpl, user contour index\n",
    "            result[i].append(j)            \n",
    "            user_image = copy.deepcopy(user_pills['image'])\n",
    "            user_offset = user_pills['offset'][j]\n",
    "            cv2.drawContours(user_image, [user_contour], 0,  [255, 255, 255], 1, offset=user_offset)\n",
    "            \n",
    "            cv2.imshow(\"tmpl\" + str(moment), tmpl_image)\n",
    "            cv2.imshow(\"user\" + str(moment), user_image)\n",
    "\n",
    "            cv2.waitKey(0)\n",
    "            cv2.destroyAllWindows()\n",
    "            \n",
    "        "
   ]
  },
  {
   "cell_type": "code",
   "execution_count": 37,
   "outputs": [
    {
     "name": "stdout",
     "text": [
      "150\n",
      "6\n",
      "4\n",
      "9\n",
      "244\n",
      "13\n",
      "106\n"
     ],
     "output_type": "stream"
    }
   ],
   "source": [
    "tmpl_pills = register_pills_image(\"images/tmpl_pills.jpg\")\n",
    "user_pills = register_pills_image(\"images/user_pills.jpg\")\n",
    "# user_pills1 = register_pills_image(\"images/user_pills1.jpg\")"
   ],
   "metadata": {
    "collapsed": false,
    "pycharm": {
     "name": "#%%\n",
     "is_executing": false
    }
   }
  },
  {
   "cell_type": "code",
   "execution_count": 32,
   "outputs": [],
   "source": [
    "\n",
    "compare_pill(tmpl_pills, user_pills)\n"
   ],
   "metadata": {
    "collapsed": false,
    "pycharm": {
     "name": "#%%\n",
     "is_executing": false
    }
   }
  },
  {
   "cell_type": "code",
   "execution_count": 4,
   "id": "enabling-adult",
   "metadata": {
    "pycharm": {
     "is_executing": false
    }
   },
   "outputs": [],
   "source": [
    "#s pill_2.jpg\n",
    "tmpl_image = cv2.imread(\"images/pills_1.jpg\")\n",
    "tmpl_image = resizeFixRate(tmpl_image, RESIZE_WIDTH)\n",
    "\n",
    "grayImage = cv2.cvtColor(tmpl_image, cv2.COLOR_BGR2GRAY)\n",
    "binaryImage = binaryImageAdaptiveThresh(grayImage)\n",
    "\n",
    "tmpl_contours, hirarachy = getContours(binaryImage)\n",
    "\n",
    "# for contour in contours:\n",
    "#     contour_image = cv2.drawContours(tmpl_image, [contour], 0, (255, 255, 255), 2)\n",
    "# \n",
    "# plt.imshow(cv2.cvtColor(contour_image, cv2.COLOR_BGR2RGB))\n",
    "\n",
    "find_image = cv2.imread(\"images/pill1_11.PNG\")\n",
    "find_image = resizeFixRate(find_image, RESIZE_WIDTH)\n",
    "\n",
    "grayImage = cv2.cvtColor(find_image, cv2.COLOR_BGR2GRAY)\n",
    "binaryImage = binaryImageAdaptiveThresh(grayImage)\n",
    "\n",
    "find_contours, find_hirarachy = getContours(binaryImage)\n",
    "\n",
    "\n",
    "min_moment = 1000000\n",
    "similar = None\n",
    "\n",
    "import copy\n",
    "for c in tmpl_contours:\n",
    "    origin = copy.deepcopy(tmpl_image)\n",
    "    cv2.drawContours(origin, [c], 0,  [255, 255, 255], 2)\n",
    "    \n",
    "    moment = cv2.matchShapes(c, find_contours[0], cv2.CONTOURS_MATCH_I3, 0)\n",
    "    if min_moment >= moment:\n",
    "        min_moment = moment\n",
    "        similar = c\n",
    "    cv2.imshow(\"dd\", origin)\n",
    "    cv2.imshow(\"dd2\", find_image)\n",
    "    cv2.waitKey(0)\n",
    "    cv2.destroyAllWindows()\n",
    "    \n",
    "origin2 = copy.deepcopy(tmpl_image)\n",
    "cv2.drawContours(origin2, [similar], 0,  [255, 255, 255], 2)\n",
    "show(origin2)\n"
   ]
  },
  {
   "cell_type": "code",
   "execution_count": 18,
   "outputs": [],
   "source": [
    "# import copy\n",
    "# for c in contours:\n",
    "#     origin = copy.deepcopy(origin_image)\n",
    "#     stencil = np.zeros(origin.shape).astype(origin.dtype)\n",
    "#     cv2.fillPoly(stencil, [c], [255, 255, 255])\n",
    "#     result = cv2.bitwise_and(origin, stencil)\n",
    "#     # plt.imshow(cv2.cvtColor(result, cv2.COLOR_BGR2RGB))\n",
    "#     cv2.imshow(\"dd\", result)\n",
    "#     cv2.waitKey(0)\n",
    "#     cv2.destroyAllWindows()"
   ],
   "metadata": {
    "collapsed": false,
    "pycharm": {
     "name": "#%%\n",
     "is_executing": false
    }
   }
  },
  {
   "cell_type": "code",
   "execution_count": 43,
   "outputs": [
    {
     "data": {
      "text/plain": "<Figure size 432x288 with 1 Axes>",
      "image/png": "[encoded data removed]"
     },
     "metadata": {
      "needs_background": "light"
     },
     "output_type": "display_data"
    }
   ],
   "source": [
    "image = cv2.imread(\"images/pills_1.jpg\")\n",
    "image = resizeFixRate(image, RESIZE_WIDTH)\n",
    "origin_image = resizeFixRate(image, RESIZE_WIDTH)\n",
    "\n",
    "grayImage = cv2.cvtColor(image, cv2.COLOR_BGR2GRAY)\n",
    "binaryImage = binaryImageAdaptiveThresh(grayImage)\n",
    "\n",
    "contour_image=None\n",
    "contours, hirarachy = getContours(binaryImage)\n",
    "for contour in contours:\n",
    "    contour_image = cv2.drawContours(image, [contour], 0, (255, 255, 255), 2)\n",
    "\n",
    "plt.imshow(cv2.cvtColor(contour_image, cv2.COLOR_BGR2RGB))\n",
    "\n",
    "test_pill = None\n",
    "test_contour = None\n",
    "import copy\n",
    "for c in contours:\n",
    "    origin = copy.deepcopy(origin_image)\n",
    "    stencil = np.zeros(origin.shape).astype(origin.dtype)\n",
    "    cv2.fillPoly(stencil, [c], [255, 255, 255])\n",
    "    result = cv2.bitwise_and(origin, stencil)\n",
    "    # plt.imshow(cv2.cvtColor(result, cv2.COLOR_BGR2RGB))\n",
    "    test_pill = result\n",
    "    test_contour = [c]\n",
    "    cv2.imshow(\"dd\", result)\n",
    "    cv2.waitKey(0)\n",
    "    cv2.destroyAllWindows()"
   ],
   "metadata": {
    "collapsed": false,
    "pycharm": {
     "name": "#%%\n",
     "is_executing": false
    }
   }
  },
  {
   "cell_type": "code",
   "execution_count": 9,
   "outputs": [],
   "source": [
    "min_moment = 1000000\n",
    "similar = None\n",
    "\n",
    "for c in contours:\n",
    "    origin = copy.deepcopy(origin_image)\n",
    "    cv2.drawContours(origin, [c], 0,  [255, 255, 255], 2)\n",
    "    \n",
    "    moment = cv2.matchShapes(c, test_contour[0], cv2.CONTOURS_MATCH_I3, 0)\n",
    "    if min_moment >= moment:\n",
    "        min_moment = moment\n",
    "        similar = [c]\n",
    "    # cv2.imshow(\"dd\", origin)\n",
    "    # cv2.imshow(\"dd2\", test_pill)\n",
    "    # cv2.waitKey(0)\n",
    "    # cv2.destroyAllWindows()\n",
    "    \n",
    "origin2 = copy.deepcopy(origin_image)\n",
    "cv2.drawContours(origin2, similar, 0,  [255, 255, 255], 2)\n",
    "cv2.imshow(\"d\", origin2)\n"
   ],
   "metadata": {
    "collapsed": false,
    "pycharm": {
     "name": "#%%\n",
     "is_executing": false
    }
   }
  },
  {
   "cell_type": "code",
   "execution_count": null,
   "outputs": [],
   "source": [
    "for i,c in enumerate(contours):\n",
    "    rect = cv2.boundingRect(c)\n",
    "    x,y,w,h = rect\n",
    "    box = cv2.rectangle(origin_image, (x,y), (x+w,y+h), (0,0,255), 2)\n",
    "    cropped = origin_image[y: y+h, x: x+w]\n",
    "    cv2.imshow(\"Show Boxes\", cropped)\n",
    "    cv2.waitKey(0)\n",
    "    cv2.destroyAllWindows()\n",
    "    cv2.imwrite(\"blobby\"+str(i)+\".png\", cropped)"
   ],
   "metadata": {
    "collapsed": false,
    "pycharm": {
     "name": "#%%\n"
    }
   }
  },
  {
   "cell_type": "code",
   "execution_count": null,
   "outputs": [],
   "source": [
    "\n"
   ],
   "metadata": {
    "collapsed": false,
    "pycharm": {
     "name": "#%%\n"
    }
   }
  }
 ],
 "metadata": {
  "kernelspec": {
   "display_name": "Python 3",
   "language": "python",
   "name": "python3"
  },
  "language_info": {
   "codemirror_mode": {
    "name": "ipython",
    "version": 3
   },
   "file_extension": ".py",
   "mimetype": "text/x-python",
   "name": "python",
   "nbconvert_exporter": "python",
   "pygments_lexer": "ipython3",
   "version": "3.8.6"
  },
  "pycharm": {
   "stem_cell": {
    "cell_type": "raw",
    "source": [],
    "metadata": {
     "collapsed": false
    }
   }
  }
 },
 "nbformat": 4,
 "nbformat_minor": 5
}